{
 "cells": [
  {
   "cell_type": "code",
   "execution_count": null,
   "metadata": {},
   "outputs": [],
   "source": [
    "import os\n",
    "import logging\n",
    "import pandas as pd\n",
    "from datetime import datetime\n",
    "from typing import Tuple, List, Optional\n",
    "from etherscan_functions import get_erc20_transfers, get_block_numbers_by_date\n",
    "'''\n",
    "不用看，测试文件\n",
    "'''\n",
    "\n",
    "logging.basicConfig(level=logging.INFO, format=\"%(asctime)s - %(levelname)s - %(message)s\")\n",
    "logger = logging.getLogger()\n",
    "\n",
    "START_DATE = \"2024-12-10 08:00\"\n",
    "END_DATE = \"2024-12-12 08:00\" # so that when cenverting to UTC, it will be 00:00\n",
    "OUTPUT_FILE = 'C:/Users/YuweiCao/Documents/GitHub/Project/Project/etherscan/result'\n",
    "api_key = \"VQAIR728IM4Z8RZKPYBR4ESM5I3WBZK2C1\" # my free API key, you can get one at https://etherscan.io/myapikey\n",
    "base_url = \"https://api.etherscan.io/v2/api\" # We're using the v2 API 2024/12/12\n",
    "ADDRESS = \"0x5be9a4959308A0D0c7bC0870E319314d8D957dBB\" # Address of the contract we want to get the source code of\n",
    "chain_id = 1  # Ethereum Mainnet"
   ]
  },
  {
   "cell_type": "code",
   "execution_count": 2,
   "metadata": {},
   "outputs": [],
   "source": [
    "def fetch_erc20_transfers(address: str, start_block: int, end_block: int, offset: int = 100) -> pd.DataFrame:\n",
    "    \"\"\"\n",
    "    Fetch ERC20 token transfer data and process it into a DataFrame.\n",
    "    :param address: Contract address you decide to fetch the data from.\n",
    "    :param start_block: Start block number.\n",
    "    :param end_block: End block number.\n",
    "    :param offset: Number of transactions to fetch per API call.\n",
    "    \"\"\"\n",
    "    all_transfers = []\n",
    "    page = 1\n",
    "\n",
    "    logger.info(f\"Fetching ERC20 transfers from block {start_block} to {end_block}...\")\n",
    "\n",
    "    while True:\n",
    "        try:\n",
    "            transfers = get_erc20_transfers(\n",
    "                address=address, startblock=start_block, endblock=end_block, page=page, offset=offset\n",
    "            )\n",
    "\n",
    "            if transfers is None:\n",
    "                logger.warning(\"API returned None. Exiting...\")\n",
    "                break\n",
    "            if isinstance(transfers, list) and len(transfers) == 0:\n",
    "                logger.info(\"Empty list received. Exiting...\")\n",
    "                break\n",
    "            if isinstance(transfers, pd.DataFrame) and transfers.empty:\n",
    "                logger.info(\"Empty DataFrame received. Exiting...\")\n",
    "                break\n",
    "\n",
    "            if isinstance(transfers, list):\n",
    "                transfers_df = pd.DataFrame(transfers)\n",
    "            elif isinstance(transfers, pd.DataFrame):\n",
    "                transfers_df = transfers\n",
    "            else:\n",
    "                logger.warning(f\"Unexpected data format: {type(transfers)}. Exiting...\")\n",
    "                break\n",
    "\n",
    "            if transfers_df.empty:\n",
    "                logger.info(\"Empty DataFrame received. Exiting...\")\n",
    "                break\n",
    "\n",
    "            all_transfers.extend(transfers_df.to_dict(orient='records'))\n",
    "            logger.info(f\"Page {page}: Retrieved {len(transfers_df)} transactions.\")\n",
    "            page += 1\n",
    "\n",
    "        except Exception as e:\n",
    "            logger.warning(f\"API request failed on page {page}: {e}\")\n",
    "            break\n",
    "\n",
    "    final_df = pd.DataFrame(all_transfers)\n",
    "    logger.info(f\"Final dataset contains {len(final_df)} unique transactions.\")\n",
    "    return final_df\n"
   ]
  },
  {
   "cell_type": "code",
   "execution_count": 3,
   "metadata": {},
   "outputs": [],
   "source": [
    "def process_and_save_transfers(transfers_df: pd.DataFrame, output_file: str) -> None:\n",
    "    \"\"\"\n",
    "    Process ERC20 transfers DataFrame and save to a CSV file.\n",
    "    \"\"\"\n",
    "    if not transfers_df.empty:\n",
    "        transfers_df['dateTime'] = pd.to_datetime(\n",
    "            pd.to_numeric(transfers_df['timeStamp'], errors='coerce'), unit='s', utc=True\n",
    "        ).dt.strftime('%Y-%m-%d %H:%M:%S')\n",
    "        cols = ['dateTime'] + [col for col in transfers_df.columns if col != 'dateTime']\n",
    "        transfers_df = transfers_df[cols]\n",
    "        output_file = os.path.join(output_file, 'erc20_transfers.csv')\n",
    "\n",
    "        transfers_df.to_csv(output_file, index=False, encoding='utf-8')\n",
    "        logger.info(f\"Data successfully saved to {output_file}\")\n",
    "    else:\n",
    "        logger.warning(\"No valid transfers to save. DataFrame is empty.\")"
   ]
  },
  {
   "cell_type": "code",
   "execution_count": 5,
   "metadata": {},
   "outputs": [
    {
     "name": "stderr",
     "output_type": "stream",
     "text": [
      "2024-12-23 14:31:55,514 - INFO - Fetching ERC20 transfers from block 21368389 to 21382703...\n"
     ]
    },
    {
     "name": "stdout",
     "output_type": "stream",
     "text": [
      "21368389 21382703\n"
     ]
    },
    {
     "name": "stderr",
     "output_type": "stream",
     "text": [
      "2024-12-23 14:31:56,447 - INFO - Page 1: Retrieved 10 transactions.\n"
     ]
    },
    {
     "name": "stdout",
     "output_type": "stream",
     "text": [
      "{'status': '1', 'message': 'OK', 'result': [{'blockNumber': '21368861', 'timeStamp': '1733794511', 'hash': '0x7df7de1f1098529536cc4a9ee1c6500a66d18709e68542ddb15b590bab8f3088', 'nonce': '9', 'blockHash': '0xdb9c39e9e9dc86f746d0bb8a0500faf0fce171b28a391c403cc558503f595fb0', 'from': '0xe217e15b3c19cc0427f9492dc3bcfe8220afad10', 'contractAddress': '0xdac17f958d2ee523a2206206994597c13d831ec7', 'to': '0x5be9a4959308a0d0c7bc0870e319314d8d957dbb', 'value': '25541000000', 'tokenName': 'Tether USD', 'tokenSymbol': 'USDT', 'tokenDecimal': '6', 'transactionIndex': '66', 'gas': '280345', 'gasPrice': '20561899999', 'gasUsed': '171277', 'cumulativeGasUsed': '5031426', 'input': 'deprecated', 'confirmations': '94555'}, {'blockNumber': '21370001', 'timeStamp': '1733808299', 'hash': '0x0e1de3d529f9d1e488c28994f0372983e347bb448278e3b536ef7077b1654188', 'nonce': '30', 'blockHash': '0x84cbbaf1c6022b51c064303d26a2e7e1fd32d498c13692715f74ce430a51d41f', 'from': '0xe217e15b3c19cc0427f9492dc3bcfe8220afad10', 'contractAddress': '0xdac17f958d2ee523a2206206994597c13d831ec7', 'to': '0x5be9a4959308a0d0c7bc0870e319314d8d957dbb', 'value': '682700000', 'tokenName': 'Tether USD', 'tokenSymbol': 'USDT', 'tokenDecimal': '6', 'transactionIndex': '26', 'gas': '363366', 'gasPrice': '15638314856', 'gasUsed': '220959', 'cumulativeGasUsed': '1949179', 'input': 'deprecated', 'confirmations': '93415'}, {'blockNumber': '21370105', 'timeStamp': '1733809571', 'hash': '0x934637677cb7cf22f2d8bdd3210a40804801db9e6d48f4bd69644847c58d2f96', 'nonce': '5489', 'blockHash': '0xac468cd90ac054c53145bf7dee0dffb80b7d5120fc5aaabbe5a7b9114bdd4716', 'from': '0xe217e15b3c19cc0427f9492dc3bcfe8220afad10', 'contractAddress': '0xdac17f958d2ee523a2206206994597c13d831ec7', 'to': '0x5be9a4959308a0d0c7bc0870e319314d8d957dbb', 'value': '103070000', 'tokenName': 'Tether USD', 'tokenSymbol': 'USDT', 'tokenDecimal': '6', 'transactionIndex': '29', 'gas': '1509051', 'gasPrice': '13952971752', 'gasUsed': '516697', 'cumulativeGasUsed': '3059163', 'input': 'deprecated', 'confirmations': '93311'}, {'blockNumber': '21371240', 'timeStamp': '1733823263', 'hash': '0x9a35d31a76d365becb0eb2b50c7ac4f29ff2c24081eb5436c24d040ee7b07169', 'nonce': '1', 'blockHash': '0x2242ecfb3c4412b128e7fd80f4a40949a2cfebf4915b15918648f9c1156a07b5', 'from': '0xe217e15b3c19cc0427f9492dc3bcfe8220afad10', 'contractAddress': '0xa0b86991c6218b36c1d19d4a2e9eb0ce3606eb48', 'to': '0x5be9a4959308a0d0c7bc0870e319314d8d957dbb', 'value': '100035268', 'tokenName': 'USDC', 'tokenSymbol': 'USDC', 'tokenDecimal': '6', 'transactionIndex': '149', 'gas': '319970', 'gasPrice': '13685508704', 'gasUsed': '217377', 'cumulativeGasUsed': '15152905', 'input': 'deprecated', 'confirmations': '92176'}, {'blockNumber': '21371616', 'timeStamp': '1733827811', 'hash': '0xb7fef9ed329a1e8b487fd74b78aed6e5d18bbe5285e55f0a5f0b79e571d3c0fe', 'nonce': '12', 'blockHash': '0x21036c8dbbea5fd939b6a49ee3e3814b8070668bba46211aeea0f6521e6ad4ad', 'from': '0xe217e15b3c19cc0427f9492dc3bcfe8220afad10', 'contractAddress': '0xdac17f958d2ee523a2206206994597c13d831ec7', 'to': '0x5be9a4959308a0d0c7bc0870e319314d8d957dbb', 'value': '188000000', 'tokenName': 'Tether USD', 'tokenSymbol': 'USDT', 'tokenDecimal': '6', 'transactionIndex': '44', 'gas': '280272', 'gasPrice': '14023339479', 'gasUsed': '176029', 'cumulativeGasUsed': '6614022', 'input': 'deprecated', 'confirmations': '91800'}, {'blockNumber': '21371787', 'timeStamp': '1733829875', 'hash': '0xa4d856cecefa0ea84dc3b1eb2f818b4f5b460ad9fec3f06d9f92de0329c37395', 'nonce': '9', 'blockHash': '0x8612decef2b8e0431097ac80a05196c0efc7b34c00ca6e05377dd85cc7ca05bf', 'from': '0xe217e15b3c19cc0427f9492dc3bcfe8220afad10', 'contractAddress': '0xdac17f958d2ee523a2206206994597c13d831ec7', 'to': '0x5be9a4959308a0d0c7bc0870e319314d8d957dbb', 'value': '990000000', 'tokenName': 'Tether USD', 'tokenSymbol': 'USDT', 'tokenDecimal': '6', 'transactionIndex': '28', 'gas': '280327', 'gasPrice': '15954100061', 'gasUsed': '176065', 'cumulativeGasUsed': '4711740', 'input': 'deprecated', 'confirmations': '91629'}, {'blockNumber': '21371915', 'timeStamp': '1733831435', 'hash': '0x4d634ed8654b514c8ab4a37aa3c47d44141f111cd143fe6388a14b87b9f4acd1', 'nonce': '187', 'blockHash': '0x98c188eb5339d5aff6d29f1c8c19bfbdac81cde5760337daf102027acf28a7bf', 'from': '0xe217e15b3c19cc0427f9492dc3bcfe8220afad10', 'contractAddress': '0xdac17f958d2ee523a2206206994597c13d831ec7', 'to': '0x5be9a4959308a0d0c7bc0870e319314d8d957dbb', 'value': '239131209', 'tokenName': 'Tether USD', 'tokenSymbol': 'USDT', 'tokenDecimal': '6', 'transactionIndex': '14', 'gas': '363366', 'gasPrice': '14957748014', 'gasUsed': '220959', 'cumulativeGasUsed': '3012200', 'input': 'deprecated', 'confirmations': '91501'}, {'blockNumber': '21371926', 'timeStamp': '1733831567', 'hash': '0xfc0557c6fcfec8096c169a0806685a7255d9c268242e74d23d235f79d6b3eb87', 'nonce': '189', 'blockHash': '0xbd75884dee80ce823d6e44cfaeac63b3604432ec1cae6b34f0e48474a434a450', 'from': '0xe217e15b3c19cc0427f9492dc3bcfe8220afad10', 'contractAddress': '0xc02aaa39b223fe8d0a0e5c4f27ead9083c756cc2', 'to': '0x5be9a4959308a0d0c7bc0870e319314d8d957dbb', 'value': '5470000000000000', 'tokenName': 'Wrapped Ether', 'tokenSymbol': 'WETH', 'tokenDecimal': '18', 'transactionIndex': '32', 'gas': '315472', 'gasPrice': '16176914977', 'gasUsed': '172429', 'cumulativeGasUsed': '5222869', 'input': 'deprecated', 'confirmations': '91490'}, {'blockNumber': '21372382', 'timeStamp': '1733837087', 'hash': '0x3f1d883a87561509299e8ee5353f62f2ebe891d400f15bc18d51a215b04ee588', 'nonce': '3', 'blockHash': '0x612e55de70b8a7b9ae3fe67f9fffaa879e49d11ddd3d32a156c3f2269c314e7b', 'from': '0xe217e15b3c19cc0427f9492dc3bcfe8220afad10', 'contractAddress': '0xdac17f958d2ee523a2206206994597c13d831ec7', 'to': '0x5be9a4959308a0d0c7bc0870e319314d8d957dbb', 'value': '1043248700', 'tokenName': 'Tether USD', 'tokenSymbol': 'USDT', 'tokenDecimal': '6', 'transactionIndex': '73', 'gas': '280308', 'gasPrice': '26619614074', 'gasUsed': '171265', 'cumulativeGasUsed': '5409437', 'input': 'deprecated', 'confirmations': '91034'}, {'blockNumber': '21372806', 'timeStamp': '1733842199', 'hash': '0x4f10b33d58e719e3b5f5e9dbf4eda687fe78a4a4eacd2224ad01f7f1a40ad5f2', 'nonce': '5', 'blockHash': '0x32f9964bdcab714274d5b6c7f9fb8748e87dfd99a8c69573dca438e7a51d7d70', 'from': '0xe217e15b3c19cc0427f9492dc3bcfe8220afad10', 'contractAddress': '0xdac17f958d2ee523a2206206994597c13d831ec7', 'to': '0x5be9a4959308a0d0c7bc0870e319314d8d957dbb', 'value': '4923000000', 'tokenName': 'Tether USD', 'tokenSymbol': 'USDT', 'tokenDecimal': '6', 'transactionIndex': '167', 'gas': '270000', 'gasPrice': '51776229122', 'gasUsed': '176077', 'cumulativeGasUsed': '12321967', 'input': 'deprecated', 'confirmations': '90610'}]}\n"
     ]
    },
    {
     "name": "stderr",
     "output_type": "stream",
     "text": [
      "2024-12-23 14:31:57,366 - INFO - Page 2: Retrieved 10 transactions.\n"
     ]
    },
    {
     "name": "stdout",
     "output_type": "stream",
     "text": [
      "{'status': '1', 'message': 'OK', 'result': [{'blockNumber': '21373681', 'timeStamp': '1733852735', 'hash': '0x4efd5a964abaceefb9181b6fbe6b0e858cdd021e924a2c841985b8dba4d8c582', 'nonce': '19', 'blockHash': '0x35395e26bdb89cd0882d796ef850a9c5fed88fd30b76a919618f6fa77c93177d', 'from': '0xe217e15b3c19cc0427f9492dc3bcfe8220afad10', 'contractAddress': '0xdac17f958d2ee523a2206206994597c13d831ec7', 'to': '0x5be9a4959308a0d0c7bc0870e319314d8d957dbb', 'value': '22082304898', 'tokenName': 'Tether USD', 'tokenSymbol': 'USDT', 'tokenDecimal': '6', 'transactionIndex': '71', 'gas': '224276', 'gasPrice': '36228625735', 'gasUsed': '171277', 'cumulativeGasUsed': '6324790', 'input': 'deprecated', 'confirmations': '89735'}, {'blockNumber': '21373720', 'timeStamp': '1733853203', 'hash': '0x80bbb8639ae31e24a05d6f4b1b4f08b70be09504a53ed511af83c28a2710f3c1', 'nonce': '6', 'blockHash': '0x44fb79e5f5f6e1473ac88094833b14c51e211c0d5a13414ce7925b68a362b544', 'from': '0xe217e15b3c19cc0427f9492dc3bcfe8220afad10', 'contractAddress': '0xdac17f958d2ee523a2206206994597c13d831ec7', 'to': '0x5be9a4959308a0d0c7bc0870e319314d8d957dbb', 'value': '340240000', 'tokenName': 'Tether USD', 'tokenSymbol': 'USDT', 'tokenDecimal': '6', 'transactionIndex': '18', 'gas': '280328', 'gasPrice': '38171170275', 'gasUsed': '171265', 'cumulativeGasUsed': '3527044', 'input': 'deprecated', 'confirmations': '89696'}, {'blockNumber': '21374562', 'timeStamp': '1733863355', 'hash': '0x9a52aff7cb8bfa49c34a55255cb203444c80f715632aebd4611daf0e4dd192a1', 'nonce': '7', 'blockHash': '0x224076670c4fa8eb021dd01eb2de00314efb49e7725c5bc695292525e92dbf8c', 'from': '0xe217e15b3c19cc0427f9492dc3bcfe8220afad10', 'contractAddress': '0xa0b86991c6218b36c1d19d4a2e9eb0ce3606eb48', 'to': '0x5be9a4959308a0d0c7bc0870e319314d8d957dbb', 'value': '122572044', 'tokenName': 'USDC', 'tokenSymbol': 'USDC', 'tokenDecimal': '6', 'transactionIndex': '286', 'gas': '254827', 'gasPrice': '18972679138', 'gasUsed': '166077', 'cumulativeGasUsed': '23574645', 'input': 'deprecated', 'confirmations': '88854'}, {'blockNumber': '21374577', 'timeStamp': '1733863535', 'hash': '0xdf1229364f969e0a8a5bf5c72cbbd921c1a476e7dfd9ddc301631dd06e168b85', 'nonce': '8', 'blockHash': '0xa1563095669785e66e0abf27c9e25e8cfa3bfb868218e64ffb798984a98d5eb1', 'from': '0xe217e15b3c19cc0427f9492dc3bcfe8220afad10', 'contractAddress': '0xdac17f958d2ee523a2206206994597c13d831ec7', 'to': '0x5be9a4959308a0d0c7bc0870e319314d8d957dbb', 'value': '183506266', 'tokenName': 'Tether USD', 'tokenSymbol': 'USDT', 'tokenDecimal': '6', 'transactionIndex': '149', 'gas': '233606', 'gasPrice': '20605416002', 'gasUsed': '171265', 'cumulativeGasUsed': '11696364', 'input': 'deprecated', 'confirmations': '88839'}, {'blockNumber': '21375625', 'timeStamp': '1733876159', 'hash': '0x92c42f6c00ad2748e2e20a899576ca0dca6b283ab62c9907dce7b2ebb23ee69e', 'nonce': '27', 'blockHash': '0x852beec89c42dd61ce03099814771d35bbb1a22929b04bd6ce0b6ebab81a26bc', 'from': '0xe217e15b3c19cc0427f9492dc3bcfe8220afad10', 'contractAddress': '0xa0b86991c6218b36c1d19d4a2e9eb0ce3606eb48', 'to': '0x5be9a4959308a0d0c7bc0870e319314d8d957dbb', 'value': '100000000', 'tokenName': 'USDC', 'tokenSymbol': 'USDC', 'tokenDecimal': '6', 'transactionIndex': '42', 'gas': '235368', 'gasPrice': '14931345806', 'gasUsed': '193526', 'cumulativeGasUsed': '8681582', 'input': 'deprecated', 'confirmations': '87791'}, {'blockNumber': '21375703', 'timeStamp': '1733877095', 'hash': '0xdf6673274d1e03c3975a24a3ef22990172293ed063440da2572d6eb0b54cb75d', 'nonce': '30', 'blockHash': '0x392d46222587a160b83d50d2e257d7318c4d724ddfc8f7feada3e51620a89627', 'from': '0x4ac3bf54fbbf481c991d2f04bad2ff6393d9eb42', 'contractAddress': '0xda5e1988097297dcdc1f90d4dfe7909e847cbef6', 'to': '0x5be9a4959308a0d0c7bc0870e319314d8d957dbb', 'value': '769695778409200000000', 'tokenName': 'World Liberty Financial', 'tokenSymbol': 'WLFI', 'tokenDecimal': '18', 'transactionIndex': '44', 'gas': '77603', 'gasPrice': '16270449774', 'gasUsed': '71345', 'cumulativeGasUsed': '5962948', 'input': 'deprecated', 'confirmations': '87713'}, {'blockNumber': '21375910', 'timeStamp': '1733879579', 'hash': '0xbd754aeb5cda05e2b01c0459dfd2494341027b08489fb8189ecc49b6320eb439', 'nonce': '33', 'blockHash': '0x453bc258384d832ae258580ce32717add889fa7089b7c4cd8e0f83131dc8b6d0', 'from': '0xe217e15b3c19cc0427f9492dc3bcfe8220afad10', 'contractAddress': '0xa0b86991c6218b36c1d19d4a2e9eb0ce3606eb48', 'to': '0x5be9a4959308a0d0c7bc0870e319314d8d957dbb', 'value': '9999900000000', 'tokenName': 'USDC', 'tokenSymbol': 'USDC', 'tokenDecimal': '6', 'transactionIndex': '98', 'gas': '253034', 'gasPrice': '13616580425', 'gasUsed': '210650', 'cumulativeGasUsed': '9707076', 'input': 'deprecated', 'confirmations': '87506'}, {'blockNumber': '21376451', 'timeStamp': '1733886083', 'hash': '0x32200bfbf8c0dd06bb048eeab9ca9dfdebf55c6cde353009a31d34c4d0847aa4', 'nonce': '13', 'blockHash': '0x9dcc2baccc61e1805239389fdba9318b7a0fcd4d02831e36acfc97c78fd46eb5', 'from': '0xe217e15b3c19cc0427f9492dc3bcfe8220afad10', 'contractAddress': '0xdac17f958d2ee523a2206206994597c13d831ec7', 'to': '0x5be9a4959308a0d0c7bc0870e319314d8d957dbb', 'value': '6000000000', 'tokenName': 'Tether USD', 'tokenSymbol': 'USDT', 'tokenDecimal': '6', 'transactionIndex': '70', 'gas': '280327', 'gasPrice': '14858761516', 'gasUsed': '176065', 'cumulativeGasUsed': '5109318', 'input': 'deprecated', 'confirmations': '86965'}, {'blockNumber': '21376598', 'timeStamp': '1733887859', 'hash': '0xfb8cda25c6e96f06b16ec8d9d1d52618e0a49ab8c4c3349ddc0b3f13bb56fdc1', 'nonce': '14', 'blockHash': '0xf4f5f0dd32e5eebe3a6415bc1b6cf061e42faf310d46dfe100971aebe17f5229', 'from': '0xe217e15b3c19cc0427f9492dc3bcfe8220afad10', 'contractAddress': '0xdac17f958d2ee523a2206206994597c13d831ec7', 'to': '0x5be9a4959308a0d0c7bc0870e319314d8d957dbb', 'value': '975000000', 'tokenName': 'Tether USD', 'tokenSymbol': 'USDT', 'tokenDecimal': '6', 'transactionIndex': '164', 'gas': '280327', 'gasPrice': '14730538131', 'gasUsed': '176065', 'cumulativeGasUsed': '14183794', 'input': 'deprecated', 'confirmations': '86818'}, {'blockNumber': '21378046', 'timeStamp': '1733905319', 'hash': '0x412b9e8be81b22fb94e8addd85307c08ae5c577d4d798019ec80b3bec52e9b2c', 'nonce': '9', 'blockHash': '0x373bb5b7937a740fb45e7dd52aaeb1558f6bcadad509016042be0f4c087b9a34', 'from': '0xe217e15b3c19cc0427f9492dc3bcfe8220afad10', 'contractAddress': '0xdac17f958d2ee523a2206206994597c13d831ec7', 'to': '0x5be9a4959308a0d0c7bc0870e319314d8d957dbb', 'value': '3946510000', 'tokenName': 'Tether USD', 'tokenSymbol': 'USDT', 'tokenDecimal': '6', 'transactionIndex': '84', 'gas': '228155', 'gasPrice': '13484529135', 'gasUsed': '169659', 'cumulativeGasUsed': '6823191', 'input': 'deprecated', 'confirmations': '85370'}]}\n"
     ]
    },
    {
     "name": "stderr",
     "output_type": "stream",
     "text": [
      "2024-12-23 14:31:58,287 - INFO - Page 3: Retrieved 10 transactions.\n"
     ]
    },
    {
     "name": "stdout",
     "output_type": "stream",
     "text": [
      "{'status': '1', 'message': 'OK', 'result': [{'blockNumber': '21378518', 'timeStamp': '1733911067', 'hash': '0x9c0f87375cc734195418bb3df6d66e2e05c664e7f520726016df32a661bdb395', 'nonce': '15', 'blockHash': '0x2bdf24441df655630060fb888f82349a1d92e2f36a5728ade260b45b70db0df0', 'from': '0xe217e15b3c19cc0427f9492dc3bcfe8220afad10', 'contractAddress': '0xdac17f958d2ee523a2206206994597c13d831ec7', 'to': '0x5be9a4959308a0d0c7bc0870e319314d8d957dbb', 'value': '75000000', 'tokenName': 'Tether USD', 'tokenSymbol': 'USDT', 'tokenDecimal': '6', 'transactionIndex': '32', 'gas': '280327', 'gasPrice': '14030171586', 'gasUsed': '171265', 'cumulativeGasUsed': '6281737', 'input': 'deprecated', 'confirmations': '84898'}, {'blockNumber': '21378585', 'timeStamp': '1733911895', 'hash': '0x33a7951be688b0dd0c7fd0d5deb3cbb96806bc9258215defce1a09a314db964c', 'nonce': '1', 'blockHash': '0x217bb9c01354f1e850856785f7747043d99e194c6f8b78749465e21a7e72f7c5', 'from': '0xe217e15b3c19cc0427f9492dc3bcfe8220afad10', 'contractAddress': '0xdac17f958d2ee523a2206206994597c13d831ec7', 'to': '0x5be9a4959308a0d0c7bc0870e319314d8d957dbb', 'value': '148490625', 'tokenName': 'Tether USD', 'tokenSymbol': 'USDT', 'tokenDecimal': '6', 'transactionIndex': '160', 'gas': '358498', 'gasPrice': '12978596445', 'gasUsed': '222565', 'cumulativeGasUsed': '13278811', 'input': 'deprecated', 'confirmations': '84831'}, {'blockNumber': '21378845', 'timeStamp': '1733915039', 'hash': '0x1d4e9d581d6098ecbc52a568538433bfb68587498fd9eace0bff8f5d53e2f364', 'nonce': '6', 'blockHash': '0xbeccc3ad2a94e9ef0e932ab63f2217654946b311a6c72cc4ae2bbad68581cbaf', 'from': '0xe217e15b3c19cc0427f9492dc3bcfe8220afad10', 'contractAddress': '0xdac17f958d2ee523a2206206994597c13d831ec7', 'to': '0x5be9a4959308a0d0c7bc0870e319314d8d957dbb', 'value': '10004158509', 'tokenName': 'Tether USD', 'tokenSymbol': 'USDT', 'tokenDecimal': '6', 'transactionIndex': '90', 'gas': '280345', 'gasPrice': '12850972058', 'gasUsed': '171277', 'cumulativeGasUsed': '7062996', 'input': 'deprecated', 'confirmations': '84571'}, {'blockNumber': '21379016', 'timeStamp': '1733917115', 'hash': '0x961424aa816001322581f18ec746aee26ebf97c7a84f2ac32ef6e7620b3eb865', 'nonce': '13', 'blockHash': '0x751cf75b11761dd307dae50f757f8d13df4a6bae8a06ee8122f7b21adb365368', 'from': '0xe217e15b3c19cc0427f9492dc3bcfe8220afad10', 'contractAddress': '0xdac17f958d2ee523a2206206994597c13d831ec7', 'to': '0x5be9a4959308a0d0c7bc0870e319314d8d957dbb', 'value': '130000000', 'tokenName': 'Tether USD', 'tokenSymbol': 'USDT', 'tokenDecimal': '6', 'transactionIndex': '145', 'gas': '280308', 'gasPrice': '15835925313', 'gasUsed': '176053', 'cumulativeGasUsed': '12785557', 'input': 'deprecated', 'confirmations': '84400'}, {'blockNumber': '21379938', 'timeStamp': '1733928227', 'hash': '0x4e754c23534f7594896019a27dbc2b38700d9f638286af8f3220dba9340a6fdd', 'nonce': '14', 'blockHash': '0x7116968feb3f215879e6870e03b5797068e7b117a46a5287f7bf22ef0e1c42f2', 'from': '0xe217e15b3c19cc0427f9492dc3bcfe8220afad10', 'contractAddress': '0xdac17f958d2ee523a2206206994597c13d831ec7', 'to': '0x5be9a4959308a0d0c7bc0870e319314d8d957dbb', 'value': '5400000000', 'tokenName': 'Tether USD', 'tokenSymbol': 'USDT', 'tokenDecimal': '6', 'transactionIndex': '70', 'gas': '280327', 'gasPrice': '24216585632', 'gasUsed': '176065', 'cumulativeGasUsed': '5848832', 'input': 'deprecated', 'confirmations': '83478'}, {'blockNumber': '21379978', 'timeStamp': '1733928707', 'hash': '0x72407e76b4e227e42175d129c999ab7b1917b38300dbff99c77c297c30662155', 'nonce': '4', 'blockHash': '0x04fe34e313dc2eb2a90588c24104802746e9a0430809a6e688037b1d5c993af8', 'from': '0xe217e15b3c19cc0427f9492dc3bcfe8220afad10', 'contractAddress': '0xdac17f958d2ee523a2206206994597c13d831ec7', 'to': '0x5be9a4959308a0d0c7bc0870e319314d8d957dbb', 'value': '972510100', 'tokenName': 'Tether USD', 'tokenSymbol': 'USDT', 'tokenDecimal': '6', 'transactionIndex': '22', 'gas': '280327', 'gasPrice': '27425443696', 'gasUsed': '171265', 'cumulativeGasUsed': '4555854', 'input': 'deprecated', 'confirmations': '83438'}, {'blockNumber': '21380035', 'timeStamp': '1733929391', 'hash': '0xfd991e89f3d8841c0ff0640a66309c9750de0887660cdfc49892883ba74bec62', 'nonce': '2', 'blockHash': '0x4e4c640798cdbf401b0e1577116e99fec5be7f53872fc49818b3846f513cac95', 'from': '0xe217e15b3c19cc0427f9492dc3bcfe8220afad10', 'contractAddress': '0xdac17f958d2ee523a2206206994597c13d831ec7', 'to': '0x5be9a4959308a0d0c7bc0870e319314d8d957dbb', 'value': '201440000', 'tokenName': 'Tether USD', 'tokenSymbol': 'USDT', 'tokenDecimal': '6', 'transactionIndex': '8', 'gas': '350000', 'gasPrice': '37297887836', 'gasUsed': '171253', 'cumulativeGasUsed': '1123748', 'input': 'deprecated', 'confirmations': '83381'}, {'blockNumber': '21380497', 'timeStamp': '1733934983', 'hash': '0xaf72204fb249311a6962089ad1c1ddad0ae8b94fd61c5a1a5cbfde9157c2e818', 'nonce': '3', 'blockHash': '0x6c9cf9fe1b58adfdd58e2e79aee3d3b97fd70cbf40f46f38e5ef834892055514', 'from': '0xe217e15b3c19cc0427f9492dc3bcfe8220afad10', 'contractAddress': '0xdac17f958d2ee523a2206206994597c13d831ec7', 'to': '0x5be9a4959308a0d0c7bc0870e319314d8d957dbb', 'value': '1419806887', 'tokenName': 'Tether USD', 'tokenSymbol': 'USDT', 'tokenDecimal': '6', 'transactionIndex': '14', 'gas': '285193', 'gasPrice': '30905387699', 'gasUsed': '174459', 'cumulativeGasUsed': '2701141', 'input': 'deprecated', 'confirmations': '82919'}, {'blockNumber': '21380974', 'timeStamp': '1733940743', 'hash': '0x844694b7d8362b79e56fdec70f5e6c592aa4ede646fce9b91ccf63e5f286cbc0', 'nonce': '3304', 'blockHash': '0x82132a2d4f2bb2131642fef15b273b31d989350b7c220062442a5ff08cb5cb4f', 'from': '0x5be9a4959308a0d0c7bc0870e319314d8d957dbb', 'contractAddress': '0xa0b86991c6218b36c1d19d4a2e9eb0ce3606eb48', 'to': '0x9008d19f58aabd9ed0d60971565aa8510560ab41', 'value': '625029131134', 'tokenName': 'USDC', 'tokenSymbol': 'USDC', 'tokenDecimal': '6', 'transactionIndex': '29', 'gas': '469404', 'gasPrice': '28402106556', 'gasUsed': '228102', 'cumulativeGasUsed': '5591127', 'input': 'deprecated', 'confirmations': '82442'}, {'blockNumber': '21380976', 'timeStamp': '1733940767', 'hash': '0x3f6f3978d777e42841bfd17aa1f7247b3922feca3d75de0077c910139faf6fa8', 'nonce': '3305', 'blockHash': '0x363e528b5ae108b9174f54b7262f3fab7114abb5753a8fa3509b238830d44ea8', 'from': '0x5be9a4959308a0d0c7bc0870e319314d8d957dbb', 'contractAddress': '0xa0b86991c6218b36c1d19d4a2e9eb0ce3606eb48', 'to': '0x9008d19f58aabd9ed0d60971565aa8510560ab41', 'value': '2187513376428', 'tokenName': 'USDC', 'tokenSymbol': 'USDC', 'tokenDecimal': '6', 'transactionIndex': '19', 'gas': '434992', 'gasPrice': '30218141004', 'gasUsed': '211098', 'cumulativeGasUsed': '4572694', 'input': 'deprecated', 'confirmations': '82440'}]}\n"
     ]
    },
    {
     "name": "stderr",
     "output_type": "stream",
     "text": [
      "2024-12-23 14:31:59,216 - INFO - Page 4: Retrieved 5 transactions.\n"
     ]
    },
    {
     "name": "stdout",
     "output_type": "stream",
     "text": [
      "{'status': '1', 'message': 'OK', 'result': [{'blockNumber': '21380978', 'timeStamp': '1733940791', 'hash': '0xecb57481fac2ece624e1b3d8c61a69a5b475ee19ba337130f897834cb15c49ae', 'nonce': '10514', 'blockHash': '0xc03bdf5ce77d59731711b7358a9bf79e306e4fce71d060e3197f6873f8610369', 'from': '0x5be9a4959308a0d0c7bc0870e319314d8d957dbb', 'contractAddress': '0xa0b86991c6218b36c1d19d4a2e9eb0ce3606eb48', 'to': '0x9008d19f58aabd9ed0d60971565aa8510560ab41', 'value': '2187457492438', 'tokenName': 'USDC', 'tokenSymbol': 'USDC', 'tokenDecimal': '6', 'transactionIndex': '16', 'gas': '700000', 'gasPrice': '32099595605', 'gasUsed': '200829', 'cumulativeGasUsed': '2434752', 'input': 'deprecated', 'confirmations': '82438'}, {'blockNumber': '21381100', 'timeStamp': '1733942255', 'hash': '0x7c2bd5d2017bd92a340e439e0f53d53ed390abed74126e6d8147c34277ea5ce7', 'nonce': '429', 'blockHash': '0x9fa60ffe2831952b5343250da003fade2fc2c14ceb82ae12f27a0c2f409cfb48', 'from': '0x78ff9211317620de95602c9cbed3ae803689e545', 'contractAddress': '0x562e362876c8aee4744fc2c6aac8394c312d215d', 'to': '0x5be9a4959308a0d0c7bc0870e319314d8d957dbb', 'value': '10000000000000', 'tokenName': 'Optimus', 'tokenSymbol': 'OPTIMUS', 'tokenDecimal': '9', 'transactionIndex': '150', 'gas': '167755', 'gasPrice': '37166069282', 'gasUsed': '107088', 'cumulativeGasUsed': '26328196', 'input': 'deprecated', 'confirmations': '82316'}, {'blockNumber': '21381411', 'timeStamp': '1733946035', 'hash': '0x20541d443140e5e44215f46a7c5488819b48babc96690e2e6fa75d54fd0a654a', 'nonce': '3', 'blockHash': '0x1054212c395126391936fbae7cb828c78cf1082ef717b3f531b1f283238a9ddd', 'from': '0xb72acffe382f496ded908ea1ed16087ddfaa69ef', 'contractAddress': '0x628a3b2e302c7e896acc432d2d0dd22b6cb9bc88', 'to': '0x5be9a4959308a0d0c7bc0870e319314d8d957dbb', 'value': '3500000000000000000000', 'tokenName': 'LimeWire Token', 'tokenSymbol': 'LMWR', 'tokenDecimal': '18', 'transactionIndex': '62', 'gas': '59598', 'gasPrice': '31685145946', 'gasUsed': '39363', 'cumulativeGasUsed': '8948581', 'input': 'deprecated', 'confirmations': '82005'}, {'blockNumber': '21382061', 'timeStamp': '1733953895', 'hash': '0x9ddc07684f7e2f9e7fcf4f10fdb9a709c3e01f6c197e1f4ca0530cc0bc2e1c1e', 'nonce': '3', 'blockHash': '0x1005d7571f890746170ebb510cfc8666527bf12b7c6e88cd0f68440db76bd160', 'from': '0xe217e15b3c19cc0427f9492dc3bcfe8220afad10', 'contractAddress': '0xdac17f958d2ee523a2206206994597c13d831ec7', 'to': '0x5be9a4959308a0d0c7bc0870e319314d8d957dbb', 'value': '1009692044', 'tokenName': 'Tether USD', 'tokenSymbol': 'USDT', 'tokenDecimal': '6', 'transactionIndex': '209', 'gas': '233606', 'gasPrice': '18376982784', 'gasUsed': '171265', 'cumulativeGasUsed': '16669768', 'input': 'deprecated', 'confirmations': '81355'}, {'blockNumber': '21382598', 'timeStamp': '1733960351', 'hash': '0x64d882508a2083b8a671bfe9e610f9c80226667af8450370d6931d398d100f48', 'nonce': '1', 'blockHash': '0x76c7a6a0b3abaaf2cadf79733332e988959a391bdf754cd0d923b57ce3a53616', 'from': '0xe217e15b3c19cc0427f9492dc3bcfe8220afad10', 'contractAddress': '0xdac17f958d2ee523a2206206994597c13d831ec7', 'to': '0x5be9a4959308a0d0c7bc0870e319314d8d957dbb', 'value': '23731855', 'tokenName': 'Tether USD', 'tokenSymbol': 'USDT', 'tokenDecimal': '6', 'transactionIndex': '77', 'gas': '358498', 'gasPrice': '17064298593', 'gasUsed': '222565', 'cumulativeGasUsed': '10557873', 'input': 'deprecated', 'confirmations': '80818'}]}\n"
     ]
    },
    {
     "name": "stderr",
     "output_type": "stream",
     "text": [
      "2024-12-23 14:32:00,167 - WARNING - API request failed on page 5: Request failed: No transactions found\n",
      "2024-12-23 14:32:00,167 - INFO - Final dataset contains 35 unique transactions.\n",
      "2024-12-23 14:32:00,183 - INFO - Data successfully saved to C:/Users/YuweiCao/Documents/GitHub/Project/Project/etherscan/result\\erc20_transfers.csv\n"
     ]
    },
    {
     "name": "stdout",
     "output_type": "stream",
     "text": [
      "{'status': '0', 'message': 'No transactions found', 'result': []}\n"
     ]
    }
   ],
   "source": [
    "try:\n",
    "    # get the block numbers\n",
    "    start_block, end_block = get_block_numbers_by_date(start_date=START_DATE, end_date=END_DATE, include_all=False)\n",
    "    print(start_block, end_block)\n",
    "    # fetch the ERC20 transfers\n",
    "    transfers_df = fetch_erc20_transfers(address=ADDRESS, start_block=start_block, end_block=end_block, offset=10)\n",
    "    \n",
    "    process_and_save_transfers(transfers_df, OUTPUT_FILE)\n",
    "\n",
    "except Exception as e:\n",
    "    logger.error(f\"An error occurred during the execution: {e}\")\n"
   ]
  },
  {
   "cell_type": "code",
   "execution_count": null,
   "metadata": {},
   "outputs": [],
   "source": []
  }
 ],
 "metadata": {
  "kernelspec": {
   "display_name": "base",
   "language": "python",
   "name": "python3"
  },
  "language_info": {
   "codemirror_mode": {
    "name": "ipython",
    "version": 3
   },
   "file_extension": ".py",
   "mimetype": "text/x-python",
   "name": "python",
   "nbconvert_exporter": "python",
   "pygments_lexer": "ipython3",
   "version": "3.12.7"
  }
 },
 "nbformat": 4,
 "nbformat_minor": 2
}
