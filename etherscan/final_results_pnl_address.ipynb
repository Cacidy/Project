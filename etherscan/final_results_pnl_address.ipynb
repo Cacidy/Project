{
 "cells": [
  {
   "cell_type": "code",
   "execution_count": 4,
   "metadata": {},
   "outputs": [],
   "source": [
    "import pandas as pd\n",
    "from tabulate import tabulate\n",
    "from fetch_process_function import fetch_and_save_erc20_transfers, process_transactions, calculate_pnl, process_and_save_address\n",
    "'''\n",
    "data_process.ipynb和data_fetch.ipynb同样功能，但是通过封装函数实现了给日期地址等参数就可以返回数据，更加简洁\n",
    "添加了pnl的计算，我们这里只计算第一种交易的pnl，其余的暂时忽略不计。\n",
    "最后对于address也进行一个处理\n",
    "'''\n",
    "ADDRESS = \"0x5be9a4959308A0D0c7bC0870E319314d8D957dBB\"\n",
    "START_DATE = \"2024-12-06 08:00\" # Singapore Time，the function will convert it to UTC\n",
    "END_DATE = \"2024-12-12 08:00\"\n",
    "OUTPUT_FILE = \"C:/Users/YuweiCao/Documents/GitHub/Project/Project/etherscan/result\"\n",
    "API_KEY = \"VQAIR728IM4Z8RZKPYBR4ESM5I3WBZK2C1\"\n",
    "BASE_TOKENS = {\"USDT\", \"USDC\", \"USDE\"}"
   ]
  },
  {
   "cell_type": "code",
   "execution_count": 5,
   "metadata": {},
   "outputs": [
    {
     "name": "stderr",
     "output_type": "stream",
     "text": [
      "2025-01-08 17:52:46,031 - INFO - Start block: 21339732, End block: 21382703\n",
      "2025-01-08 17:52:46,031 - INFO - Fetching ERC20 transfers from block 21339732 to 21382703...\n",
      "2025-01-08 17:52:47,135 - INFO - Page 1: Retrieved 119 transactions.\n",
      "2025-01-08 17:52:48,009 - WARNING - API request failed on page 2: Request failed: No transactions found\n",
      "2025-01-08 17:52:48,011 - INFO - Final dataset contains 119 unique transactions.\n",
      "2025-01-08 17:52:48,014 - INFO - Data successfully saved to C:/Users/YuweiCao/Documents/GitHub/Project/Project/etherscan/result\\erc20_transfers.csv\n",
      "2025-01-08 17:52:48,015 - INFO - Transfers saved to C:/Users/YuweiCao/Documents/GitHub/Project/Project/etherscan/result\n"
     ]
    },
    {
     "name": "stdout",
     "output_type": "stream",
     "text": [
      "Formatted Transactions: part 1\n",
      "Formatted Transactions: part 2\n",
      "Formatted Transactions: final part\n",
      "cbBTC: 38 records\n",
      "+---------------------+-------------+--------+----------+----------+--------+\n",
      "| Date                |   timeStamp | Type   |   amount |    price |    pnl |\n",
      "+=====================+=============+========+==========+==========+========+\n",
      "| 2024-11-29 17:38:35 |  1732901915 | BUY    |     1.71 | 97182.48 |  12.07 |\n",
      "+---------------------+-------------+--------+----------+----------+--------+\n",
      "| 2024-11-29 17:38:59 |  1732901939 | BUY    |     3.77 | 97180.47 |  34.20 |\n",
      "+---------------------+-------------+--------+----------+----------+--------+\n",
      "| 2024-11-29 17:39:23 |  1732901963 | BUY    |     1.71 | 97195.96 | -10.99 |\n",
      "+---------------------+-------------+--------+----------+----------+--------+\n",
      "| 2024-11-29 17:41:35 |  1732902095 | BUY    |     1.71 | 97193.47 |  -6.71 |\n",
      "+---------------------+-------------+--------+----------+----------+--------+\n",
      "| 2024-11-29 17:42:47 |  1732902167 | BUY    |     0.68 | 97193.86 |  -2.94 |\n",
      "+---------------------+-------------+--------+----------+----------+--------+\n",
      "| 2024-11-29 17:58:23 |  1732903103 | BUY    |     0.68 | 97194.59 |  -3.43 |\n",
      "+---------------------+-------------+--------+----------+----------+--------+\n",
      "| 2024-11-29 18:00:35 |  1732903235 | BUY    |     3.77 | 97174.89 |  55.23 |\n",
      "+---------------------+-------------+--------+----------+----------+--------+\n",
      "| 2024-11-29 18:00:59 |  1732903259 | BUY    |     1.71 | 97190.93 |  -2.37 |\n",
      "+---------------------+-------------+--------+----------+----------+--------+\n",
      "| 2024-11-29 18:01:23 |  1732903283 | BUY    |     1.71 | 97169.33 |  34.54 |\n",
      "+---------------------+-------------+--------+----------+----------+--------+\n",
      "| 2024-11-29 18:04:47 |  1732903487 | BUY    |     0.68 | 97199.46 |  -6.75 |\n",
      "+---------------------+-------------+--------+----------+----------+--------+\n",
      "| 2024-11-29 18:05:11 |  1732903511 | BUY    |     0.68 | 97187.51 |   1.38 |\n",
      "+---------------------+-------------+--------+----------+----------+--------+\n",
      "| 2024-11-29 18:07:59 |  1732903679 | BUY    |     0.16 | 97189.08 |   0.07 |\n",
      "+---------------------+-------------+--------+----------+----------+--------+\n",
      "| 2024-11-29 18:08:47 |  1732903727 | BUY    |     1.71 | 97197.50 | -13.63 |\n",
      "+---------------------+-------------+--------+----------+----------+--------+\n",
      "| 2024-11-29 18:09:23 |  1732903763 | BUY    |     0.68 | 97183.94 |   3.81 |\n",
      "+---------------------+-------------+--------+----------+----------+--------+\n",
      "| 2024-11-29 18:10:23 |  1732903823 | BUY    |     3.77 | 97187.08 |   9.29 |\n",
      "+---------------------+-------------+--------+----------+----------+--------+\n",
      "| 2024-11-29 18:10:47 |  1732903847 | BUY    |     3.77 | 97170.51 |  71.81 |\n",
      "+---------------------+-------------+--------+----------+----------+--------+\n",
      "| 2024-11-29 18:11:11 |  1732903871 | BUY    |     3.77 | 97173.86 |  59.16 |\n",
      "+---------------------+-------------+--------+----------+----------+--------+\n",
      "| 2024-11-29 18:11:35 |  1732903895 | BUY    |     1.83 | 97180.67 |  16.20 |\n",
      "+---------------------+-------------+--------+----------+----------+--------+\n",
      "| 2024-11-29 18:11:59 |  1732903919 | BUY    |     1.71 | 97193.65 |  -7.04 |\n",
      "+---------------------+-------------+--------+----------+----------+--------+\n",
      "| 2024-11-29 19:04:47 |  1732907087 | BUY    |     1.71 | 97186.87 |   4.56 |\n",
      "+---------------------+-------------+--------+----------+----------+--------+\n",
      "| 2024-11-29 19:05:11 |  1732907111 | BUY    |     1.71 | 97192.80 |  -5.58 |\n",
      "+---------------------+-------------+--------+----------+----------+--------+\n",
      "| 2024-11-29 19:05:47 |  1732907147 | BUY    |     1.71 | 97177.31 |  20.90 |\n",
      "+---------------------+-------------+--------+----------+----------+--------+\n",
      "| 2024-11-29 19:06:11 |  1732907171 | BUY    |     1.71 | 97186.73 |   4.80 |\n",
      "+---------------------+-------------+--------+----------+----------+--------+\n",
      "| 2024-11-29 19:06:47 |  1732907207 | BUY    |     1.71 | 97181.71 |  13.38 |\n",
      "+---------------------+-------------+--------+----------+----------+--------+\n",
      "| 2024-11-29 19:07:35 |  1732907255 | BUY    |     1.71 | 97188.21 |   2.28 |\n",
      "+---------------------+-------------+--------+----------+----------+--------+\n",
      "| 2024-11-29 19:08:35 |  1732907315 | BUY    |     0.68 | 97196.56 |  -4.79 |\n",
      "+---------------------+-------------+--------+----------+----------+--------+\n",
      "| 2024-11-29 19:11:35 |  1732907495 | BUY    |     0.16 | 97184.30 |   0.86 |\n",
      "+---------------------+-------------+--------+----------+----------+--------+\n",
      "| 2024-11-29 19:12:47 |  1732907567 | BUY    |     1.71 | 97175.01 |  24.84 |\n",
      "+---------------------+-------------+--------+----------+----------+--------+\n",
      "| 2024-11-29 19:13:11 |  1732907591 | BUY    |     3.77 | 97177.88 |  43.96 |\n",
      "+---------------------+-------------+--------+----------+----------+--------+\n",
      "| 2024-11-29 19:13:35 |  1732907615 | BUY    |     1.71 | 97176.06 |  23.05 |\n",
      "+---------------------+-------------+--------+----------+----------+--------+\n",
      "| 2024-11-29 19:14:11 |  1732907651 | BUY    |     1.71 | 97187.41 |   3.64 |\n",
      "+---------------------+-------------+--------+----------+----------+--------+\n",
      "| 2024-11-29 19:14:59 |  1732907699 | BUY    |     3.77 | 97171.47 |  68.13 |\n",
      "+---------------------+-------------+--------+----------+----------+--------+\n",
      "| 2024-11-29 19:15:35 |  1732907735 | BUY    |     3.77 | 97163.90 |  96.72 |\n",
      "+---------------------+-------------+--------+----------+----------+--------+\n",
      "| 2024-11-29 19:15:59 |  1732907759 | BUY    |     3.77 | 97164.64 |  93.90 |\n",
      "+---------------------+-------------+--------+----------+----------+--------+\n",
      "| 2024-11-29 19:16:23 |  1732907783 | BUY    |     3.77 | 97164.42 |  94.73 |\n",
      "+---------------------+-------------+--------+----------+----------+--------+\n",
      "| 2024-11-29 19:16:47 |  1732907807 | BUY    |     3.77 | 97166.99 |  85.04 |\n",
      "+---------------------+-------------+--------+----------+----------+--------+\n",
      "| 2024-11-29 19:17:11 |  1732907831 | BUY    |     3.77 | 97181.86 |  28.95 |\n",
      "+---------------------+-------------+--------+----------+----------+--------+\n",
      "| 2024-11-29 19:17:35 |  1732907855 | BUY    |    24.04 | 97189.54 |   0.00 |\n",
      "+---------------------+-------------+--------+----------+----------+--------+\n",
      "WETH: 2 records\n",
      "+---------------------+-------------+--------+----------+---------+---------+\n",
      "| Date                |   timeStamp | Type   |   amount |   price |     pnl |\n",
      "+=====================+=============+========+==========+=========+=========+\n",
      "| 2024-12-06 20:22:35 |  1733516555 | BUY    |   612.25 | 4083.36 | -492.25 |\n",
      "+---------------------+-------------+--------+----------+---------+---------+\n",
      "| 2024-12-06 20:22:59 |  1733516579 | BUY    |   612.35 | 4082.56 |    0.00 |\n",
      "+---------------------+-------------+--------+----------+---------+---------+\n",
      "+---------+-------------+\n",
      "| token   |   total_pnl |\n",
      "+=========+=============+\n",
      "| cbBTC   |      843.26 |\n",
      "+---------+-------------+\n",
      "| WETH    |     -492.25 |\n",
      "+---------+-------------+\n"
     ]
    }
   ],
   "source": [
    "transfers_df = fetch_and_save_erc20_transfers(\n",
    "        address=ADDRESS,\n",
    "        start_date=START_DATE,\n",
    "        end_date=END_DATE,\n",
    "        output_file=OUTPUT_FILE,\n",
    "        offset=1000,\n",
    "    )\n",
    "transfers_df = pd.read_csv(OUTPUT_FILE + \"/all_erc20_transfers.csv\")\n",
    "record_df_1, record_df_2, record_df_3 = process_transactions(transfers_df, OUTPUT_FILE, ADDRESS, BASE_TOKENS)\n",
    "# 这里我为了显示简介把process_transactions中print结果的注释掉了 如果需要可以取消注释\n",
    "\n",
    "unique_tokens_count = record_df_1[\"token_symbol\"].nunique()\n",
    "unique_tokens = record_df_1[\"token_symbol\"].unique()\n",
    "results = []\n",
    "\n",
    "for token in unique_tokens:\n",
    "    token_df = record_df_1[record_df_1[\"formatted_record\"].str.contains(fr\"\\b{token}\\b\", regex=True)]\n",
    "    print(f\"{token}: {len(token_df)} records\")\n",
    "\n",
    "    pnl_df = calculate_pnl(token_df)\n",
    "    print(tabulate(pnl_df, headers='keys', tablefmt='grid', showindex=False, floatfmt=\".2f\"))   \n",
    "    total_pnl = pnl_df[\"pnl\"].sum()\n",
    "\n",
    "    results.append({\"token\": token, \"total_pnl\": total_pnl})\n",
    "\n",
    "pnl_summary_df = pd.DataFrame(results)\n",
    "\n",
    "print(tabulate(pnl_summary_df, headers='keys', tablefmt='grid', showindex=False, floatfmt=\".2f\"))\n",
    "\n",
    "# BTC_record_df = record_df_1[record_df_1[\"formatted_record\"].str.contains(r\"\\bcbBTC\\b\", regex=True)]\n",
    "# # print(BTC_record_df['formatted_record'])\n",
    "# pnl_df = calculate_pnl(BTC_record_df)\n",
    "# print(f\"Total PnL: {pnl_df['pnl'].sum()}\")\n"
   ]
  },
  {
   "cell_type": "code",
   "execution_count": 6,
   "metadata": {},
   "outputs": [
    {
     "name": "stderr",
     "output_type": "stream",
     "text": [
      "100%|██████████| 37/37 [00:31<00:00,  1.18it/s]"
     ]
    },
    {
     "name": "stdout",
     "output_type": "stream",
     "text": [
      "Data has been save to address_counts_with_name_tags.csv\n"
     ]
    },
    {
     "name": "stderr",
     "output_type": "stream",
     "text": [
      "\n"
     ]
    }
   ],
   "source": [
    "TOP_ACCOUNTS_DF = pd.read_csv(OUTPUT_FILE + \"/top_accounts.csv\")\n",
    "transfers_df = pd.read_csv(OUTPUT_FILE + \"/all_erc20_transfers.csv\")\n",
    "output_file = \"address_counts_with_name_tags.csv\"\n",
    "\n",
    "process_and_save_address(transfers_df, TOP_ACCOUNTS_DF, output_file)"
   ]
  },
  {
   "cell_type": "code",
   "execution_count": null,
   "metadata": {},
   "outputs": [
    {
     "ename": "NameError",
     "evalue": "name 'address_counts' is not defined",
     "output_type": "error",
     "traceback": [
      "\u001b[1;31m---------------------------------------------------------------------------\u001b[0m",
      "\u001b[1;31mNameError\u001b[0m                                 Traceback (most recent call last)",
      "Cell \u001b[1;32mIn[7], line 2\u001b[0m\n\u001b[0;32m      1\u001b[0m address_threshold \u001b[38;5;241m=\u001b[39m \u001b[38;5;241m10\u001b[39m\n\u001b[1;32m----> 2\u001b[0m important_addresses \u001b[38;5;241m=\u001b[39m address_counts[address_counts[\u001b[38;5;124m\"\u001b[39m\u001b[38;5;124mtotal_count\u001b[39m\u001b[38;5;124m\"\u001b[39m] \u001b[38;5;241m>\u001b[39m address_threshold]\n\u001b[0;32m      3\u001b[0m important_addresses \u001b[38;5;241m=\u001b[39m important_addresses\u001b[38;5;241m.\u001b[39msort_values(by\u001b[38;5;241m=\u001b[39m\u001b[38;5;124m\"\u001b[39m\u001b[38;5;124mtotal_count\u001b[39m\u001b[38;5;124m\"\u001b[39m, ascending\u001b[38;5;241m=\u001b[39m\u001b[38;5;28;01mFalse\u001b[39;00m)\n\u001b[0;32m      4\u001b[0m important_addresses \u001b[38;5;241m=\u001b[39m important_addresses[important_addresses[\u001b[38;5;124m\"\u001b[39m\u001b[38;5;124maddress\u001b[39m\u001b[38;5;124m\"\u001b[39m] \u001b[38;5;241m!=\u001b[39m ADDRESS\u001b[38;5;241m.\u001b[39mlower()]\n",
      "\u001b[1;31mNameError\u001b[0m: name 'address_counts' is not defined"
     ]
    }
   ],
   "source": [
    "transfers_df = \n",
    "address_threshold = 10\n",
    "important_addresses = address_counts[address_counts[\"total_count\"] > address_threshold]\n",
    "important_addresses = important_addresses.sort_values(by=\"total_count\", ascending=False)\n",
    "important_addresses = important_addresses[important_addresses[\"address\"] != ADDRESS.lower()]\n",
    "important_addresses[\"name\"] = important_addresses[\"address\"].apply(get_public_name_tag)\n",
    "\n",
    "print(important_addresses[[\"address\", \"name\"]])\n",
    "\n",
    "# 测试代码   \n",
    "address = \"0x119ca458c5f91d3815e5f8a29633d709569b4eb3\"\n",
    "name_tag = get_public_name_tag(address)\n",
    "print(f\"Public Name Tag for {address}: {name_tag}\")    "
   ]
  }
 ],
 "metadata": {
  "kernelspec": {
   "display_name": "base",
   "language": "python",
   "name": "python3"
  },
  "language_info": {
   "codemirror_mode": {
    "name": "ipython",
    "version": 3
   },
   "file_extension": ".py",
   "mimetype": "text/x-python",
   "name": "python",
   "nbconvert_exporter": "python",
   "pygments_lexer": "ipython3",
   "version": "3.12.7"
  }
 },
 "nbformat": 4,
 "nbformat_minor": 2
}
