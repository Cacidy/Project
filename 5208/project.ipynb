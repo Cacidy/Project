{
 "cells": [
  {
   "cell_type": "code",
   "execution_count": 1,
   "metadata": {},
   "outputs": [
    {
     "name": "stderr",
     "output_type": "stream",
     "text": [
      "2025-02-06 15:16:13.346 WARNING streamlit.runtime.state.session_state_proxy: Session state does not function when running a script without `streamlit run`\n",
      "2025-02-06 15:16:13.525 \n",
      "  \u001b[33m\u001b[1mWarning:\u001b[0m to view this Streamlit app on a browser, run it with the following\n",
      "  command:\n",
      "\n",
      "    streamlit run c:\\Users\\YuweiCao\\anaconda3\\Lib\\site-packages\\ipykernel_launcher.py [ARGUMENTS]\n"
     ]
    },
    {
     "ename": "NameError",
     "evalue": "name 'pd' is not defined",
     "output_type": "error",
     "traceback": [
      "\u001b[1;31m---------------------------------------------------------------------------\u001b[0m",
      "\u001b[1;31mNameError\u001b[0m                                 Traceback (most recent call last)",
      "Cell \u001b[1;32mIn[1], line 8\u001b[0m\n\u001b[0;32m      6\u001b[0m \u001b[38;5;66;03m# 日期范围选择（过去两年）\u001b[39;00m\n\u001b[0;32m      7\u001b[0m end_date \u001b[38;5;241m=\u001b[39m st\u001b[38;5;241m.\u001b[39mdate_input(\u001b[38;5;124m\"\u001b[39m\u001b[38;5;124m结束日期\u001b[39m\u001b[38;5;124m\"\u001b[39m)\n\u001b[1;32m----> 8\u001b[0m start_date \u001b[38;5;241m=\u001b[39m end_date \u001b[38;5;241m-\u001b[39m pd\u001b[38;5;241m.\u001b[39mDateOffset(years\u001b[38;5;241m=\u001b[39m\u001b[38;5;241m2\u001b[39m)\n\u001b[0;32m     10\u001b[0m \u001b[38;5;66;03m# 用户问题输入\u001b[39;00m\n\u001b[0;32m     11\u001b[0m question \u001b[38;5;241m=\u001b[39m st\u001b[38;5;241m.\u001b[39mtext_input(\u001b[38;5;124m\"\u001b[39m\u001b[38;5;124m输入你的问题（例如：TVL变化趋势如何？）\u001b[39m\u001b[38;5;124m\"\u001b[39m)\n",
      "\u001b[1;31mNameError\u001b[0m: name 'pd' is not defined"
     ]
    }
   ],
   "source": [
    "import streamlit as st\n",
    "\n",
    "# 链选择下拉菜单\n",
    "chain = st.selectbox(\"选择区块链\", [\"Ethereum\", \"Solana\", \"BSC\", \"Arbitrum\", \"Bitcoin\"])\n",
    "\n",
    "# 日期范围选择（过去两年）\n",
    "end_date = st.date_input(\"结束日期\")\n",
    "start_date = end_date - pd.DateOffset(years=2)\n",
    "\n",
    "# 用户问题输入\n",
    "question = st.text_input(\"输入你的问题（例如：TVL变化趋势如何？）\")\n",
    "\n",
    "# 数据处理与LLM调用逻辑（伪代码）\n",
    "if st.button(\"分析\"):\n",
    "    data = defillama_api.get_data(chain, start_date, end_date)\n",
    "    processed_data = clean_data(data)\n",
    "    answer = llm_analyze(question, processed_data)\n",
    "    st.write(answer)\n",
    "    st.line_chart(processed_data[\"tvl\"])  # 示例图表"
   ]
  }
 ],
 "metadata": {
  "kernelspec": {
   "display_name": "base",
   "language": "python",
   "name": "python3"
  },
  "language_info": {
   "codemirror_mode": {
    "name": "ipython",
    "version": 3
   },
   "file_extension": ".py",
   "mimetype": "text/x-python",
   "name": "python",
   "nbconvert_exporter": "python",
   "pygments_lexer": "ipython3",
   "version": "3.12.7"
  }
 },
 "nbformat": 4,
 "nbformat_minor": 2
}
